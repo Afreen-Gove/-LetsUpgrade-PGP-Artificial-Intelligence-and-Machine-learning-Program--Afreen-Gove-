{
  "nbformat": 4,
  "nbformat_minor": 0,
  "metadata": {
    "colab": {
      "name": "50 Startup_Random Forest",
      "private_outputs": true,
      "provenance": [],
      "toc_visible": true
    },
    "kernelspec": {
      "name": "python3",
      "display_name": "Python 3"
    },
    "language_info": {
      "name": "python"
    }
  },
  "cells": [
    {
      "cell_type": "code",
      "execution_count": null,
      "metadata": {
        "id": "-l18ylNqj7sL"
      },
      "outputs": [],
      "source": [
        "import numpy as np\n",
        "import pandas as pd\n",
        "import seaborn as sns\n",
        "import matplotlib.pyplot as plt"
      ]
    },
    {
      "cell_type": "code",
      "source": [
        "data=pd.read_csv('/content/50_Startups.csv')\n",
        "data.head()"
      ],
      "metadata": {
        "id": "7RKSk_xDkOl_"
      },
      "execution_count": null,
      "outputs": []
    },
    {
      "cell_type": "code",
      "source": [
        "data.info()"
      ],
      "metadata": {
        "id": "_1iuSJ9CkU2m"
      },
      "execution_count": null,
      "outputs": []
    },
    {
      "cell_type": "code",
      "source": [
        "data1=data['State']\n",
        "data1=pd.get_dummies(data1, columns=['State'])\n",
        "data=data.drop(labels=['State'], axis=1)\n",
        "data=pd.concat([data, data1], axis=1)\n",
        "data.head()"
      ],
      "metadata": {
        "id": "GjidqmxKkasR"
      },
      "execution_count": null,
      "outputs": []
    },
    {
      "cell_type": "code",
      "source": [
        "x_data= data.iloc[ : , [0,1,2,4,5,6]]\n",
        "y_data=data['Profit']"
      ],
      "metadata": {
        "id": "9hto1_JKlPBO"
      },
      "execution_count": null,
      "outputs": []
    },
    {
      "cell_type": "code",
      "source": [
        "from sklearn.model_selection import train_test_split\n",
        "x_train, x_test, y_train,y_test= train_test_split(x_data, y_data, test_size=0.25, random_state=0)"
      ],
      "metadata": {
        "id": "z-GkAlHBn4HH"
      },
      "execution_count": null,
      "outputs": []
    },
    {
      "cell_type": "markdown",
      "source": [
        "#LINEAR REGRESSION"
      ],
      "metadata": {
        "id": "OFjXLYnEpRQY"
      }
    },
    {
      "cell_type": "code",
      "source": [
        "from sklearn.linear_model import LinearRegression\n",
        "model=LinearRegression()\n",
        "model.fit(x_train, y_train)"
      ],
      "metadata": {
        "id": "AbDB04mnpWhS"
      },
      "execution_count": null,
      "outputs": []
    },
    {
      "cell_type": "code",
      "source": [
        "y_pred=model.predict(x_test)\n",
        "print(model.coef_)\n",
        "print(model.intercept_)"
      ],
      "metadata": {
        "id": "voDhsNW3p_2D"
      },
      "execution_count": null,
      "outputs": []
    },
    {
      "cell_type": "code",
      "source": [
        "from sklearn.metrics import r2_score\n",
        "r2_score(y_test,y_pred)"
      ],
      "metadata": {
        "id": "4yNni_3aqUUY"
      },
      "execution_count": null,
      "outputs": []
    },
    {
      "cell_type": "markdown",
      "source": [
        "#DECISION TREE"
      ],
      "metadata": {
        "id": "gFr36kGPriKw"
      }
    },
    {
      "cell_type": "code",
      "source": [
        "from sklearn.tree import DecisionTreeRegressor\n",
        "dmodel=DecisionTreeRegressor()\n",
        "dmodel.fit(x_train, y_train)"
      ],
      "metadata": {
        "id": "x2HJAieRrRbb"
      },
      "execution_count": null,
      "outputs": []
    },
    {
      "cell_type": "code",
      "source": [
        "d_y_pred=dmodel.predict(x_test)\n",
        "\n",
        "r2_score(y_test, d_y_pred)\n"
      ],
      "metadata": {
        "id": "Wg1hlZm-ro9h"
      },
      "execution_count": null,
      "outputs": []
    },
    {
      "cell_type": "markdown",
      "source": [
        "#RANDOM FOREST"
      ],
      "metadata": {
        "id": "SToj6NjWsqSZ"
      }
    },
    {
      "cell_type": "code",
      "source": [
        "from sklearn.ensemble import RandomForestRegressor\n",
        "r_model=RandomForestRegressor()\n",
        "r_model.fit(x_train, y_train)"
      ],
      "metadata": {
        "id": "Gcu68_EEso1-"
      },
      "execution_count": null,
      "outputs": []
    },
    {
      "cell_type": "code",
      "source": [
        "r_y_pred=r_model.predict(x_test)\n",
        "r2_score(y_test, r_y_pred)\n"
      ],
      "metadata": {
        "id": "jWrgbZIkrtfr"
      },
      "execution_count": null,
      "outputs": []
    }
  ]
}