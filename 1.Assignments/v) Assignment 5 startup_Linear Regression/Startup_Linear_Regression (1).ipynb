{
  "nbformat": 4,
  "nbformat_minor": 0,
  "metadata": {
    "colab": {
      "name": "Startup_Linear Regression",
      "private_outputs": true,
      "provenance": []
    },
    "kernelspec": {
      "name": "python3",
      "display_name": "Python 3"
    },
    "language_info": {
      "name": "python"
    }
  },
  "cells": [
    {
      "cell_type": "code",
      "execution_count": null,
      "metadata": {
        "id": "LsrauPjaLOkv"
      },
      "outputs": [],
      "source": [
        "#import library\n",
        "import numpy as np\n",
        "import pandas as pd\n",
        "import seaborn as sns\n",
        "import matplotlib.pyplot as plt"
      ]
    },
    {
      "cell_type": "code",
      "source": [
        "#import the data\n",
        "data=pd.read_csv('/content/50_Startups.csv')\n",
        "data.head()"
      ],
      "metadata": {
        "id": "x9H8Hw4yLzCF"
      },
      "execution_count": null,
      "outputs": []
    },
    {
      "cell_type": "code",
      "source": [
        "data.info()"
      ],
      "metadata": {
        "id": "5XPABrVeL5vt"
      },
      "execution_count": null,
      "outputs": []
    },
    {
      "cell_type": "code",
      "source": [
        "#from scatter plot its shows there is weak relation betwen profit and administration\n",
        "sns.pairplot(data=data)"
      ],
      "metadata": {
        "id": "Ogtt1F5VL7ZK"
      },
      "execution_count": null,
      "outputs": []
    },
    {
      "cell_type": "code",
      "source": [
        "#no outliers found\n",
        "sns.boxplot(data=data.iloc[ :, [0,1,2]])"
      ],
      "metadata": {
        "id": "CMSNp-QzOiD6"
      },
      "execution_count": null,
      "outputs": []
    },
    {
      "cell_type": "code",
      "source": [
        "state_1=data['State']\n",
        "state_1=pd.get_dummies(data=state_1)\n",
        "state_1=state_1.drop(labels='New York', axis='columns')\n",
        "data=pd.concat([data, state_1],axis='columns')\n",
        "data=data.drop(labels='State', axis='columns')\n",
        "data.head()"
      ],
      "metadata": {
        "id": "p4Bz_TL1Rz_9"
      },
      "execution_count": null,
      "outputs": []
    },
    {
      "cell_type": "code",
      "source": [
        "y_data=data['Profit']\n",
        "x_data=data.drop(labels='Profit', axis='columns')\n",
        "x_data"
      ],
      "metadata": {
        "id": "54K8SyoMSJDH"
      },
      "execution_count": null,
      "outputs": []
    },
    {
      "cell_type": "code",
      "source": [
        "# from sklearn.preprocessing import StandardScaler\n",
        "# scaler=StandardScaler()\n",
        "# xx_data=x_data.iloc[: , :3]\n",
        "# x_data.iloc[:,0:3]=scaler.fit_transform(xx_data)\n",
        "# x_data.head()\n",
        "\n",
        "\n",
        "##by doing standardisation OLS method the accuracy is 64%"
      ],
      "metadata": {
        "id": "HEHdDZqoWDwg"
      },
      "execution_count": null,
      "outputs": []
    },
    {
      "cell_type": "code",
      "source": [
        "from sklearn.model_selection import train_test_split\n",
        "x_train,x_test,y_train,y_test=train_test_split(x_data,y_data, test_size=0.25, random_state=101)"
      ],
      "metadata": {
        "id": "Om03oV-PZNO5"
      },
      "execution_count": null,
      "outputs": []
    },
    {
      "cell_type": "code",
      "source": [
        "from sklearn.linear_model import LinearRegression\n",
        "regressor = LinearRegression()\n",
        "regressor.fit(x_train, y_train)"
      ],
      "metadata": {
        "id": "qblNxPL5Y7gM"
      },
      "execution_count": null,
      "outputs": []
    },
    {
      "cell_type": "code",
      "source": [
        "y_pred = regressor.predict(x_test)"
      ],
      "metadata": {
        "id": "wAqi61rGZehj"
      },
      "execution_count": null,
      "outputs": []
    },
    {
      "cell_type": "code",
      "source": [
        "print(regressor.coef_)\n",
        "print(regressor.intercept_)"
      ],
      "metadata": {
        "id": "LcIAVgAaY7jT"
      },
      "execution_count": null,
      "outputs": []
    },
    {
      "cell_type": "code",
      "source": [
        "from sklearn.metrics import r2_score\n",
        "r2_score(y_test, y_pred)\n"
      ],
      "metadata": {
        "id": "riv1XsqbZnH7"
      },
      "execution_count": null,
      "outputs": []
    },
    {
      "cell_type": "code",
      "source": [
        "#by ols method\n",
        "import statsmodels.api as sm\n",
        "result = sm.OLS(y_data, x_data).fit()\n",
        "print(result.summary())"
      ],
      "metadata": {
        "id": "2vMGaPdSaQ7H"
      },
      "execution_count": null,
      "outputs": []
    },
    {
      "cell_type": "code",
      "source": [
        "#\n",
        "x_new={'R&D Spend':[500000], 'Administration':[200000], 'Marketing Spend':[300000],'California':[0], 'Florida':[0]}\n",
        "x_new=pd.DataFrame.from_dict(x_new)\n",
        "x_new.head()"
      ],
      "metadata": {
        "id": "fLm97k_kbhnX"
      },
      "execution_count": null,
      "outputs": []
    },
    {
      "cell_type": "code",
      "source": [
        "y_pred = regressor.predict(x_new)\n",
        "print(y_pred)"
      ],
      "metadata": {
        "id": "A2ZM-tyHctPV"
      },
      "execution_count": null,
      "outputs": []
    },
    {
      "cell_type": "code",
      "source": [
        "x_new['California']=1\n",
        "x_new"
      ],
      "metadata": {
        "id": "RVmKduloet3t"
      },
      "execution_count": null,
      "outputs": []
    },
    {
      "cell_type": "code",
      "source": [
        "y_pred = regressor.predict(x_new)\n",
        "print(y_pred)"
      ],
      "metadata": {
        "id": "-of8VwsIfmjA"
      },
      "execution_count": null,
      "outputs": []
    },
    {
      "cell_type": "code",
      "source": [
        "x_new['California']=0\n",
        "x_new['Florida']=1\n",
        "x_new"
      ],
      "metadata": {
        "id": "Wg6y0BV9fp8G"
      },
      "execution_count": null,
      "outputs": []
    },
    {
      "cell_type": "code",
      "source": [
        "y_pred = regressor.predict(x_new)\n",
        "print(y_pred)\n",
        "\n",
        "#for a budget as specified florida is suggested"
      ],
      "metadata": {
        "id": "2WnXVnoTf4-i"
      },
      "execution_count": null,
      "outputs": []
    }
  ]
}