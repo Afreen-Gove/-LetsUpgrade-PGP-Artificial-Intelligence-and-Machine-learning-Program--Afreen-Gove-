{
  "nbformat": 4,
  "nbformat_minor": 0,
  "metadata": {
    "colab": {
      "name": "German_Credit_data_Logistic Regression",
      "private_outputs": true,
      "provenance": [],
      "collapsed_sections": []
    },
    "kernelspec": {
      "name": "python3",
      "display_name": "Python 3"
    },
    "language_info": {
      "name": "python"
    }
  },
  "cells": [
    {
      "cell_type": "code",
      "execution_count": null,
      "metadata": {
        "id": "gschcl089jI5"
      },
      "outputs": [],
      "source": [
        "#import library\n",
        "import numpy as np\n",
        "import pandas as pd\n",
        "import matplotlib.pyplot as plt\n",
        "import seaborn as sns"
      ]
    },
    {
      "cell_type": "code",
      "source": [
        "#import the data set\n",
        "data=pd.read_csv('/content/German_Credit_data.csv')\n",
        "data.head()"
      ],
      "metadata": {
        "id": "z_cJMcNO-Iix"
      },
      "execution_count": null,
      "outputs": []
    },
    {
      "cell_type": "code",
      "source": [
        "data.info()"
      ],
      "metadata": {
        "id": "SFBr8vIi-Opw"
      },
      "execution_count": null,
      "outputs": []
    },
    {
      "cell_type": "code",
      "source": [
        "def outlier(columns):\n",
        "  q1=np.quantile(columns,0.25)\n",
        "  q3=np.quantile(columns, 0.75)\n",
        "  iqr=q3-q1\n",
        "  max=q3+1.5*iqr\n",
        "  min=q1-1.5*iqr\n",
        "  for i in columns:\n",
        "    if i>max or i<min:\n",
        "      return True\n",
        "  return False\n",
        "\n",
        "for i in data.columns:\n",
        "  outlier_status=outlier(data[i])\n",
        "\n",
        "  print(i, ':', outlier_status)\n"
      ],
      "metadata": {
        "id": "jT4RBHijZsuT"
      },
      "execution_count": null,
      "outputs": []
    },
    {
      "cell_type": "code",
      "source": [
        "data.corr()"
      ],
      "metadata": {
        "id": "80RrlX-Kd0_G"
      },
      "execution_count": null,
      "outputs": []
    },
    {
      "cell_type": "code",
      "source": [
        "data=data.drop(labels=['Duration_in_Present_Residence','No_of_dependents'], axis=1)\n",
        "data.head()"
      ],
      "metadata": {
        "id": "fdg27cQCf1cQ"
      },
      "execution_count": null,
      "outputs": []
    },
    {
      "cell_type": "code",
      "source": [
        "from sklearn.preprocessing import StandardScaler\n",
        "scalar = StandardScaler()\n",
        "data.iloc[ : , 1: ]=scalar.fit_transform(data.iloc[ : , 1: ])\n",
        "data.head()"
      ],
      "metadata": {
        "id": "h8Bo6H4GeuTn"
      },
      "execution_count": null,
      "outputs": []
    },
    {
      "cell_type": "code",
      "source": [
        "y_data=data['Creditability']\n",
        "x_data=data.iloc[ : ,1:]\n",
        "x_data"
      ],
      "metadata": {
        "id": "MepbJTHkh0Ls"
      },
      "execution_count": null,
      "outputs": []
    },
    {
      "cell_type": "code",
      "source": [
        "from sklearn.model_selection import train_test_split\n",
        "x_train, x_test, y_train, y_test = train_test_split(x_data, y_data, test_size=0.25, random_state=1)\n",
        "print(x_train.shape)\n",
        "print(y_train.shape)\n",
        "print(x_test.shape)\n",
        "print(y_test.shape)"
      ],
      "metadata": {
        "id": "YjgXDX-gimHo"
      },
      "execution_count": null,
      "outputs": []
    },
    {
      "cell_type": "code",
      "source": [
        "from sklearn.linear_model import LogisticRegression\n",
        "model= LogisticRegression()\n",
        "model.fit(x_train, y_train)"
      ],
      "metadata": {
        "id": "uWWwxps0jBph"
      },
      "execution_count": null,
      "outputs": []
    },
    {
      "cell_type": "code",
      "source": [
        "model.coef_"
      ],
      "metadata": {
        "id": "Btm1aRnlkKIq"
      },
      "execution_count": null,
      "outputs": []
    },
    {
      "cell_type": "code",
      "source": [
        "model.intercept_"
      ],
      "metadata": {
        "id": "TO2Cbi7NkgFH"
      },
      "execution_count": null,
      "outputs": []
    },
    {
      "cell_type": "code",
      "source": [
        "y_pred=model.predict(x_test)"
      ],
      "metadata": {
        "id": "YRfzWPrjklHL"
      },
      "execution_count": null,
      "outputs": []
    },
    {
      "cell_type": "code",
      "source": [
        "from sklearn.metrics import classification_report, confusion_matrix, accuracy_score\n",
        "print(classification_report(y_test, y_pred))\n",
        "print(confusion_matrix(y_test, y_pred))\n",
        "print(accuracy_score(y_test, y_pred))"
      ],
      "metadata": {
        "id": "ebzklTyakuMu"
      },
      "execution_count": null,
      "outputs": []
    },
    {
      "cell_type": "markdown",
      "source": [
        "##estimation of accuracy using decision tree"
      ],
      "metadata": {
        "id": "G8YxYue1ovH4"
      }
    },
    {
      "cell_type": "code",
      "source": [
        "from sklearn.tree import DecisionTreeClassifier\n",
        "dtree=DecisionTreeClassifier()\n",
        "dtree.fit(x_train, y_train)"
      ],
      "metadata": {
        "id": "coKseyyJlF7w"
      },
      "execution_count": null,
      "outputs": []
    },
    {
      "cell_type": "code",
      "source": [
        "y_pred=dtree.predict(x_test)\n",
        "y_pred"
      ],
      "metadata": {
        "id": "Nn0PJOIxlWvX"
      },
      "execution_count": null,
      "outputs": []
    },
    {
      "cell_type": "code",
      "source": [
        "from sklearn.metrics import classification_report, confusion_matrix, accuracy_score\n",
        "print(classification_report(y_test, y_pred))\n",
        "print(confusion_matrix(y_test, y_pred))\n",
        "print(accuracy_score(y_test, y_pred))"
      ],
      "metadata": {
        "id": "fdmZoTD-lbwW"
      },
      "execution_count": null,
      "outputs": []
    },
    {
      "cell_type": "markdown",
      "source": [
        "##estimation of accuracy by removing non significant values"
      ],
      "metadata": {
        "id": "xD45JIL2pDbc"
      }
    },
    {
      "cell_type": "code",
      "source": [
        "x_data=x_data.drop(labels=['Purpose_of_loan','Percentage_of_disposable_income','Sex_&_Marital_Status','Guarantors/Debtors','Age_in_years','Housing','No_of_Credits_at_this__Bank','Occupation','Telephone','Foreign_Worker'], axis='columns')\n",
        "x_data"
      ],
      "metadata": {
        "id": "tmJUt3m3mOwu"
      },
      "execution_count": null,
      "outputs": []
    },
    {
      "cell_type": "code",
      "source": [
        "from sklearn.model_selection import train_test_split\n",
        "x_train, x_test, y_train, y_test = train_test_split(x_data, y_data, test_size=0.25, random_state=1)\n",
        "print(x_train.shape)\n",
        "print(y_train.shape)\n",
        "print(x_test.shape)\n",
        "print(y_test.shape)"
      ],
      "metadata": {
        "id": "3ICMylXWn5LF"
      },
      "execution_count": null,
      "outputs": []
    },
    {
      "cell_type": "code",
      "source": [
        "from sklearn.linear_model import LogisticRegression\n",
        "model= LogisticRegression()\n",
        "model.fit(x_train, y_train)"
      ],
      "metadata": {
        "id": "1rqd9_5QoHiG"
      },
      "execution_count": null,
      "outputs": []
    },
    {
      "cell_type": "code",
      "source": [
        "model.coef_"
      ],
      "metadata": {
        "id": "cJl2MQmhoLxi"
      },
      "execution_count": null,
      "outputs": []
    },
    {
      "cell_type": "code",
      "source": [
        "model.intercept_"
      ],
      "metadata": {
        "id": "681UyOuxoQXd"
      },
      "execution_count": null,
      "outputs": []
    },
    {
      "cell_type": "code",
      "source": [
        "y_pred=model.predict(x_test)"
      ],
      "metadata": {
        "id": "0ccClSZQoU4F"
      },
      "execution_count": null,
      "outputs": []
    },
    {
      "cell_type": "code",
      "source": [
        "from sklearn.metrics import classification_report, confusion_matrix, accuracy_score\n",
        "print(classification_report(y_test, y_pred))\n",
        "print(confusion_matrix(y_test, y_pred))\n",
        "print(accuracy_score(y_test, y_pred))"
      ],
      "metadata": {
        "id": "ZS0BDeW3og0w"
      },
      "execution_count": null,
      "outputs": []
    }
  ]
}