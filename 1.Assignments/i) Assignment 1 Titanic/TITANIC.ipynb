{
  "nbformat": 4,
  "nbformat_minor": 0,
  "metadata": {
    "colab": {
      "name": "TITANIC",
      "private_outputs": true,
      "provenance": [],
      "collapsed_sections": []
    },
    "kernelspec": {
      "name": "python3",
      "display_name": "Python 3"
    },
    "language_info": {
      "name": "python"
    }
  },
  "cells": [
    {
      "cell_type": "code",
      "execution_count": null,
      "metadata": {
        "id": "-kz7djLo30m_"
      },
      "outputs": [],
      "source": [
        "import numpy as np\n",
        "import pandas as pd\n",
        "import seaborn as sns\n",
        "import matplotlib.pyplot as plt"
      ]
    },
    {
      "cell_type": "code",
      "source": [
        "#import the data\n",
        "data=pd.read_csv('/content/titanic.csv')\n",
        "data.head()"
      ],
      "metadata": {
        "id": "ncmt6xO04P3-"
      },
      "execution_count": null,
      "outputs": []
    },
    {
      "cell_type": "code",
      "source": [
        "#check the null values\n",
        "data.isnull().sum()"
      ],
      "metadata": {
        "id": "229XoSd44P_h"
      },
      "execution_count": null,
      "outputs": []
    },
    {
      "cell_type": "code",
      "source": [
        "#removing the columns which is having 25% or more missing values from the data \n",
        "data=data.drop(labels=['cabin','boat','body','home.dest'], axis='columns')\n",
        "data.head()"
      ],
      "metadata": {
        "id": "rg4JcK5s5TGO"
      },
      "execution_count": null,
      "outputs": []
    },
    {
      "cell_type": "code",
      "source": [
        "#remove non-significant data\n",
        "data=data.drop(labels=['name','ticket', 'fare'], axis='columns')\n",
        "data.head()"
      ],
      "metadata": {
        "id": "5CmLrR2j7i_B"
      },
      "execution_count": null,
      "outputs": []
    },
    {
      "cell_type": "code",
      "source": [
        "#check null values\n",
        "data.isnull().sum()"
      ],
      "metadata": {
        "id": "V6cB-Rrc8bok"
      },
      "execution_count": null,
      "outputs": []
    },
    {
      "cell_type": "code",
      "source": [
        "#remove NA values where the is least data missing like 1 to 3\n",
        "data= data.dropna(axis=0, subset=['pclass','survived','sex','sibsp','parch','embarked'])\n",
        "data.head()"
      ],
      "metadata": {
        "id": "iQnHB1du8xS6"
      },
      "execution_count": null,
      "outputs": []
    },
    {
      "cell_type": "code",
      "source": [
        "# fill the missing values in age by checking the outliers with using the techniques\n",
        "sns.boxplot(y='age', data=data)"
      ],
      "metadata": {
        "id": "rI43rqK5_Mvp"
      },
      "execution_count": null,
      "outputs": []
    },
    {
      "cell_type": "code",
      "source": [
        "#there are outliers in age , use median method\n",
        "data['age'] = data['age'].fillna(np.nanmedian(data['age']))\n",
        "data.info()"
      ],
      "metadata": {
        "id": "wIGHfuk7AD_3"
      },
      "execution_count": null,
      "outputs": []
    },
    {
      "cell_type": "code",
      "source": [
        "data_sex=data['sex']\n",
        "gender=pd.get_dummies(data_sex, prefix='sex')\n",
        "data=pd.concat([data, gender], axis='columns')\n",
        "data.head()"
      ],
      "metadata": {
        "id": "9libWaWXBMtq"
      },
      "execution_count": null,
      "outputs": []
    },
    {
      "cell_type": "code",
      "source": [
        "data_embarked=data['embarked']\n",
        "embarked_class=pd.get_dummies(data_embarked, prefix='embarked_class')\n",
        "data=pd.concat([data, embarked_class], axis='columns')\n",
        "data.head()"
      ],
      "metadata": {
        "id": "0l_4kLlGBxsx"
      },
      "execution_count": null,
      "outputs": []
    },
    {
      "cell_type": "code",
      "source": [
        "data=data.drop(['sex','embarked','sex_male','embarked_class_S'], axis=1)\n",
        "data.head()"
      ],
      "metadata": {
        "id": "0A0g5HVuFZhV"
      },
      "execution_count": null,
      "outputs": []
    },
    {
      "cell_type": "code",
      "source": [
        "y_data=data['survived']\n",
        "x_data=data.drop(labels='survived', axis=1)\n",
        "x_data.head()"
      ],
      "metadata": {
        "id": "nl3J3i6_Ft2g"
      },
      "execution_count": null,
      "outputs": []
    },
    {
      "cell_type": "code",
      "source": [
        "from sklearn.preprocessing import StandardScaler\n",
        "scaler=StandardScaler()\n",
        "x_data['age']=scaler.fit_transform(x_data[['age']])\n",
        "x_data.head()"
      ],
      "metadata": {
        "id": "fQwOjy25HGHP"
      },
      "execution_count": null,
      "outputs": []
    },
    {
      "cell_type": "code",
      "source": [
        "from sklearn.model_selection import train_test_split\n",
        "x_train,x_test,y_train,y_test=train_test_split(x_data,y_data, test_size=0.25, random_state=101)"
      ],
      "metadata": {
        "id": "VwPI8oHZKrOj"
      },
      "execution_count": null,
      "outputs": []
    },
    {
      "cell_type": "code",
      "source": [
        "#using logistic regression as the data set is categorial type\n",
        "\n",
        "from sklearn.linear_model import LogisticRegression\n",
        "model=LogisticRegression()"
      ],
      "metadata": {
        "id": "9oSiiGN5Kt1I"
      },
      "execution_count": null,
      "outputs": []
    },
    {
      "cell_type": "code",
      "source": [
        "model.fit(x_train,y_train)\n",
        "model.coef_"
      ],
      "metadata": {
        "id": "TvsJaxjWMLYp"
      },
      "execution_count": null,
      "outputs": []
    },
    {
      "cell_type": "code",
      "source": [
        "model.intercept_"
      ],
      "metadata": {
        "id": "hQXhJoE5NDGX"
      },
      "execution_count": null,
      "outputs": []
    },
    {
      "cell_type": "code",
      "source": [
        "y_pred=model.predict(x_test)"
      ],
      "metadata": {
        "id": "1q5sLJgsNFJX"
      },
      "execution_count": null,
      "outputs": []
    },
    {
      "cell_type": "code",
      "source": [
        "from sklearn.metrics import classification_report, confusion_matrix, accuracy_score\n",
        "print(classification_report(y_test, y_pred))\n",
        "print(confusion_matrix(y_test, y_pred))\n",
        "print(accuracy_score(y_test, y_pred))"
      ],
      "metadata": {
        "id": "uFrAdHRtOVy2"
      },
      "execution_count": null,
      "outputs": []
    }
  ]
}