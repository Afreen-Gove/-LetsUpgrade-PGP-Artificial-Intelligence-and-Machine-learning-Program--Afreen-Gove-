{
  "nbformat": 4,
  "nbformat_minor": 0,
  "metadata": {
    "colab": {
      "name": "dummydata_data preprocessing",
      "private_outputs": true,
      "provenance": []
    },
    "kernelspec": {
      "name": "python3",
      "display_name": "Python 3"
    },
    "language_info": {
      "name": "python"
    }
  },
  "cells": [
    {
      "cell_type": "code",
      "execution_count": null,
      "metadata": {
        "id": "EI_GCtZz7X_B"
      },
      "outputs": [],
      "source": [
        "#import library\n",
        "import numpy as np\n",
        "import pandas as pd\n",
        "import matplotlib.pyplot as plt\n",
        "import seaborn as sns"
      ]
    },
    {
      "cell_type": "code",
      "source": [
        "#import the data\n",
        "data=pd.read_csv('/content/dummydata.csv')\n",
        "data.head()"
      ],
      "metadata": {
        "id": "pylTvFCX-G8w"
      },
      "execution_count": null,
      "outputs": []
    },
    {
      "cell_type": "code",
      "source": [
        "#remove non significant column\n",
        "data=data.drop(labels=['PassengerId','Name','Ticket', 'Fare'], axis='columns')\n",
        "data.head()"
      ],
      "metadata": {
        "id": "3iH81CjD-ciB"
      },
      "execution_count": null,
      "outputs": []
    },
    {
      "cell_type": "code",
      "source": [
        "#check null values\n",
        "data.isnull().sum()"
      ],
      "metadata": {
        "id": "q0lH4nOO-ck2"
      },
      "execution_count": null,
      "outputs": []
    },
    {
      "cell_type": "code",
      "source": [
        "data=data.drop(labels=['Cabin'], axis='columns')\n",
        "data.head()\n"
      ],
      "metadata": {
        "id": "KjNyPTuU-coS"
      },
      "execution_count": null,
      "outputs": []
    },
    {
      "cell_type": "code",
      "source": [
        "#there are outliers in age , use median method\n",
        "data['Age'] = data['Age'].fillna(np.nanmedian(data['Age']))\n",
        "data.info()"
      ],
      "metadata": {
        "id": "b09CUvJXE0UQ"
      },
      "execution_count": null,
      "outputs": []
    },
    {
      "cell_type": "code",
      "source": [
        "# fill the missing values in age by checking the outliers with using the techniques\n",
        "sns.boxplot(y='Age', data=data)"
      ],
      "metadata": {
        "id": "dnVTSx-BD92O"
      },
      "execution_count": null,
      "outputs": []
    },
    {
      "cell_type": "code",
      "source": [
        "#one hot encoding\n",
        "data_embarked=data['Embarked']\n",
        "embarked_class=pd.get_dummies(data_embarked, prefix='embarked_class')\n",
        "data=pd.concat([data, embarked_class], axis='columns')\n",
        "data.head()"
      ],
      "metadata": {
        "id": "f0ShyctuFf1e"
      },
      "execution_count": null,
      "outputs": []
    },
    {
      "cell_type": "code",
      "source": [
        "data_sex=data['Sex']\n",
        "gender=pd.get_dummies(data_sex, prefix='Sex')\n",
        "data=pd.concat([data, gender], axis='columns')\n",
        "data.head()"
      ],
      "metadata": {
        "id": "MYtowXfdFmWs"
      },
      "execution_count": null,
      "outputs": []
    },
    {
      "cell_type": "code",
      "source": [
        "data=data.drop(['Sex','Embarked','Sex_male','embarked_class_S'], axis=1)\n",
        "data.head()"
      ],
      "metadata": {
        "id": "pwNd9sXFF1IW"
      },
      "execution_count": null,
      "outputs": []
    },
    {
      "cell_type": "code",
      "source": [
        "y_data=data['Survived']\n",
        "x_data=data.drop(labels='Survived', axis=1)\n",
        "x_data.head()"
      ],
      "metadata": {
        "id": "zE4UaYm_GQki"
      },
      "execution_count": null,
      "outputs": []
    },
    {
      "cell_type": "code",
      "source": [
        "from sklearn.preprocessing import StandardScaler\n",
        "scaler=StandardScaler()\n",
        "x_data['Age']=scaler.fit_transform(x_data[['Age']])\n",
        "x_data.head()"
      ],
      "metadata": {
        "id": "XlcVlqoNGZJO"
      },
      "execution_count": null,
      "outputs": []
    },
    {
      "cell_type": "code",
      "source": [
        "from sklearn.model_selection import train_test_split\n",
        "x_train,x_test,y_train,y_test=train_test_split(x_data,y_data, test_size=0.25, random_state=101)\n",
        "print(x_train.shape)\n",
        "print(x_test.shape)\n",
        "print(y_train.shape)\n",
        "print(y_test.shape)"
      ],
      "metadata": {
        "id": "iTgsoRLBGfd9"
      },
      "execution_count": null,
      "outputs": []
    }
  ]
}