{
  "nbformat": 4,
  "nbformat_minor": 0,
  "metadata": {
    "colab": {
      "name": "House_Price",
      "private_outputs": true,
      "provenance": [],
      "toc_visible": true
    },
    "kernelspec": {
      "name": "python3",
      "display_name": "Python 3"
    },
    "language_info": {
      "name": "python"
    }
  },
  "cells": [
    {
      "cell_type": "code",
      "execution_count": null,
      "metadata": {
        "id": "z55v__3-hM26"
      },
      "outputs": [],
      "source": [
        "import numpy as np\n",
        "import pandas as pd\n",
        "import seaborn as sns\n",
        "import matplotlib.pyplot as plt"
      ]
    },
    {
      "cell_type": "code",
      "source": [
        "#import the data\n",
        "data=pd.read_csv('/content/House Price.csv')\n",
        "data.head()"
      ],
      "metadata": {
        "id": "PbTqE7cohXdb"
      },
      "execution_count": null,
      "outputs": []
    },
    {
      "cell_type": "code",
      "source": [
        "data.info()"
      ],
      "metadata": {
        "id": "iRm-yVbQheUB"
      },
      "execution_count": null,
      "outputs": []
    },
    {
      "cell_type": "code",
      "source": [
        "data=data.drop(labels=['Alley', 'Id'], axis=1)\n",
        "data.head()"
      ],
      "metadata": {
        "id": "dwAHeiq-hf3W"
      },
      "execution_count": null,
      "outputs": []
    },
    {
      "cell_type": "code",
      "source": [
        "sns.boxplot(data=data.iloc[ :, [3,4,7]])"
      ],
      "metadata": {
        "id": "CIJsUUYJhvhA"
      },
      "execution_count": null,
      "outputs": []
    },
    {
      "cell_type": "code",
      "source": [
        "sns.boxplot(data=data.iloc[ :, [0,2]])"
      ],
      "metadata": {
        "id": "bRfv55jUiXbT"
      },
      "execution_count": null,
      "outputs": []
    },
    {
      "cell_type": "code",
      "source": [
        "sns.boxplot(data=data.iloc[ :, [1,5]])"
      ],
      "metadata": {
        "id": "OqZU3wSxii85"
      },
      "execution_count": null,
      "outputs": []
    },
    {
      "cell_type": "code",
      "source": [
        "data.iloc[ :, [0,1,2,3, 4, 5,7]] = data.iloc[ :, [0,1,2,3, 4, 5,7]].fillna(data.iloc[ :, [0,1,2,3, 4, 5,7]].median())\n",
        "data.info()"
      ],
      "metadata": {
        "id": "ongFgmz3ivTb"
      },
      "execution_count": null,
      "outputs": []
    },
    {
      "cell_type": "code",
      "source": [
        "data['GarageType'] = data['GarageType'] .fillna(data['GarageType'].mode()[0])\n",
        "data.info()"
      ],
      "metadata": {
        "id": "MERNReWxlRJG"
      },
      "execution_count": null,
      "outputs": []
    },
    {
      "cell_type": "code",
      "source": [
        "sns.pairplot(data=data)"
      ],
      "metadata": {
        "id": "q3OGlhAisEY7"
      },
      "execution_count": null,
      "outputs": []
    },
    {
      "cell_type": "code",
      "source": [
        "data_Garage=data['GarageType']\n",
        "x=pd.get_dummies(data_Garage)\n",
        "data=pd.concat([data,x], axis=1)\n",
        "data=data.drop(labels=['GarageType', '2Types'], axis=1)\n",
        "data.head()"
      ],
      "metadata": {
        "id": "ZGuLuHyqmQ5l"
      },
      "execution_count": null,
      "outputs": []
    },
    {
      "cell_type": "code",
      "source": [
        "y_data=data['SalePrice']\n",
        "x_data=data.drop(labels='SalePrice', axis=1)\n",
        "x_data.head()"
      ],
      "metadata": {
        "id": "RE6kOfm1m34c"
      },
      "execution_count": null,
      "outputs": []
    },
    {
      "cell_type": "code",
      "source": [
        "from sklearn.preprocessing import StandardScaler\n",
        "scaler=StandardScaler()\n",
        "x_data.iloc[ : , 0:7]= scaler.fit_transform(x_data.iloc[ : , 0:7])\n",
        "x_data"
      ],
      "metadata": {
        "id": "JNqnvgRrpADd"
      },
      "execution_count": null,
      "outputs": []
    },
    {
      "cell_type": "code",
      "source": [
        "from sklearn.model_selection import train_test_split\n",
        "x_train, x_test, y_train, y_test = train_test_split(x_data, y_data, test_size=0.20, random_state=42)\n",
        "print(x_train.shape)\n",
        "print(x_test.shape)\n",
        "print(y_train.shape)\n",
        "print(y_test.shape)"
      ],
      "metadata": {
        "id": "UZ7KiR5BpjyS"
      },
      "execution_count": null,
      "outputs": []
    },
    {
      "cell_type": "code",
      "source": [
        "from sklearn.linear_model import LinearRegression\n",
        "reger=LinearRegression()\n",
        "reger.fit(x_train, y_train)"
      ],
      "metadata": {
        "id": "7PYax4oFp5Q5"
      },
      "execution_count": null,
      "outputs": []
    },
    {
      "cell_type": "code",
      "source": [
        "reger.coef_"
      ],
      "metadata": {
        "id": "NATiMbHEqoXl"
      },
      "execution_count": null,
      "outputs": []
    },
    {
      "cell_type": "code",
      "source": [
        "reger.intercept_"
      ],
      "metadata": {
        "id": "-dRemAGwqq7J"
      },
      "execution_count": null,
      "outputs": []
    },
    {
      "cell_type": "code",
      "source": [
        "y_pred= reger.predict(x_test)"
      ],
      "metadata": {
        "id": "umJgb0njqtwq"
      },
      "execution_count": null,
      "outputs": []
    },
    {
      "cell_type": "code",
      "source": [
        "from sklearn.metrics import r2_score\n",
        "r2_score(y_test, y_pred)"
      ],
      "metadata": {
        "id": "Au88lnpiq-_6"
      },
      "execution_count": null,
      "outputs": []
    }
  ]
}