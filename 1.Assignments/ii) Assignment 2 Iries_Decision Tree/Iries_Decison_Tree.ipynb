{
  "nbformat": 4,
  "nbformat_minor": 0,
  "metadata": {
    "colab": {
      "name": "Iries_Decison Tree",
      "private_outputs": true,
      "provenance": [],
      "collapsed_sections": []
    },
    "kernelspec": {
      "name": "python3",
      "display_name": "Python 3"
    },
    "language_info": {
      "name": "python"
    }
  },
  "cells": [
    {
      "cell_type": "code",
      "execution_count": null,
      "metadata": {
        "id": "u9nc5-UFATvI"
      },
      "outputs": [],
      "source": [
        "import numpy as np\n",
        "import pandas as pd\n",
        "import seaborn as sns\n",
        "import matplotlib.pyplot as plt"
      ]
    },
    {
      "cell_type": "code",
      "source": [
        "#import the data\n",
        "data=pd.read_csv('/content/Iris.csv')\n",
        "data.head()"
      ],
      "metadata": {
        "id": "8PWnz9vQAt6l"
      },
      "execution_count": null,
      "outputs": []
    },
    {
      "cell_type": "code",
      "source": [
        "#check for missing data \n",
        "data.info()"
      ],
      "metadata": {
        "id": "-e7_eoKnBQre"
      },
      "execution_count": null,
      "outputs": []
    },
    {
      "cell_type": "code",
      "source": [
        "data=data.drop(labels=['Id'], axis='columns')\n",
        "data.head()"
      ],
      "metadata": {
        "id": "J-2G2YNbBSzE"
      },
      "execution_count": null,
      "outputs": []
    },
    {
      "cell_type": "code",
      "source": [
        "sns.pairplot(data=data, hue='Species')"
      ],
      "metadata": {
        "id": "AiDzQzy-BrgY"
      },
      "execution_count": null,
      "outputs": []
    },
    {
      "cell_type": "code",
      "source": [
        "#duplicate data\n",
        "data1=data\n",
        "data.head()"
      ],
      "metadata": {
        "id": "5j-RIfQaCc1N"
      },
      "execution_count": null,
      "outputs": []
    },
    {
      "cell_type": "code",
      "source": [
        "#create independent variable\n",
        "x= data1.drop('Species', axis=1)\n",
        "x.head()"
      ],
      "metadata": {
        "id": "Uuc96NzSEKdh"
      },
      "execution_count": null,
      "outputs": []
    },
    {
      "cell_type": "code",
      "source": [
        "#create dependant variable\n",
        "y= data1['Species']\n",
        "print(y)"
      ],
      "metadata": {
        "id": "wjPKOGqzEj6A"
      },
      "execution_count": null,
      "outputs": []
    },
    {
      "cell_type": "code",
      "source": [
        "from sklearn import preprocessing\n",
        "le = preprocessing.LabelEncoder()\n",
        "y=le.fit_transform(y)\n",
        "y"
      ],
      "metadata": {
        "id": "JtZ0EC37EyKR"
      },
      "execution_count": null,
      "outputs": []
    },
    {
      "cell_type": "code",
      "source": [
        "y_data=y\n",
        "x_data=x"
      ],
      "metadata": {
        "id": "NObJw7WAFwhp"
      },
      "execution_count": null,
      "outputs": []
    },
    {
      "cell_type": "markdown",
      "source": [
        "## **split the data for training and testing**\n"
      ],
      "metadata": {
        "id": "uoitOb75IBSI"
      }
    },
    {
      "cell_type": "code",
      "source": [
        "from sklearn.model_selection import train_test_split"
      ],
      "metadata": {
        "id": "ej7g-ruhIKB9"
      },
      "execution_count": null,
      "outputs": []
    },
    {
      "cell_type": "code",
      "source": [
        "x_train,x_test,y_train,y_test=train_test_split(x_data,y_data, test_size=0.25,random_state=123)"
      ],
      "metadata": {
        "id": "7eTc_8UDIGj1"
      },
      "execution_count": null,
      "outputs": []
    },
    {
      "cell_type": "code",
      "source": [
        "#bulid decision model as it is classification dataset\n",
        "from sklearn.tree import DecisionTreeClassifier\n",
        "dtree=DecisionTreeClassifier()\n",
        "dtree.fit(x_train, y_train)"
      ],
      "metadata": {
        "id": "lHY2rIwxI-5H"
      },
      "execution_count": null,
      "outputs": []
    },
    {
      "cell_type": "code",
      "source": [
        "y_pred=dtree.predict(x_test)\n",
        "y_pred"
      ],
      "metadata": {
        "id": "L4-R9ADSKp9o"
      },
      "execution_count": null,
      "outputs": []
    },
    {
      "cell_type": "code",
      "source": [
        "from sklearn.metrics import classification_report, confusion_matrix, accuracy_score\n",
        "print(classification_report(y_pred, y_test))\n",
        "print(confusion_matrix(y_pred, y_test))\n",
        "print(accuracy_score(y_pred, y_test))"
      ],
      "metadata": {
        "id": "qsb2PCzJKyXR"
      },
      "execution_count": null,
      "outputs": []
    },
    {
      "cell_type": "code",
      "source": [
        "x_new= {'SepalLengthCm':[1.0],'SepalWidthCm':[2.0], 'PetalLengthCm':[2.5],'PetalWidthCm':[3.5]}\n",
        "x_new=pd.DataFrame.from_dict(x_new)"
      ],
      "metadata": {
        "id": "a84ROgq4OyQc"
      },
      "execution_count": null,
      "outputs": []
    },
    {
      "cell_type": "code",
      "source": [
        "y_pred_1=dtree.predict(x_new)\n",
        "if y_pred_1==0:\n",
        "  print('Iris-setosa')\n",
        "elif y_pred_1==1:\n",
        "  print('Iris-versicolor')\n",
        "elif y_pred_1==2:\n",
        "  print('Iris-virginica')"
      ],
      "metadata": {
        "id": "B2AHkJYrQWQc"
      },
      "execution_count": null,
      "outputs": []
    }
  ]
}